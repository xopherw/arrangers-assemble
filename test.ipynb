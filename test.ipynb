{
 "cells": [
  {
   "cell_type": "code",
   "execution_count": 1,
   "metadata": {},
   "outputs": [],
   "source": [
    "import os, shutil\n",
    "\n",
    "path = os.getcwd()\n",
    "x = list(os.walk(path))"
   ]
  },
  {
   "cell_type": "code",
   "execution_count": 2,
   "metadata": {},
   "outputs": [],
   "source": [
    "def isDir(path):\n",
    "    return os.path.isdir(path)\n",
    "\n",
    "def createDir(path):\n",
    "    os.mkdir(path)\n",
    "\n",
    "def isSubtitle(file):\n",
    "    return file.endswith((\".srt\", \".vtt\"))\n",
    "\n",
    "def moveSubtitle(file, path):\n",
    "    shutil.move(file, path)\n",
    "\n"
   ]
  },
  {
   "cell_type": "code",
   "execution_count": 4,
   "metadata": {},
   "outputs": [],
   "source": [
    "for i in x[1:]: # starting 2nd index to check if it is a directory\n",
    "    subFolder = i[0] + \"/\" + \"Subtitles\"\n",
    "    createDir(subFolder)\n",
    "    for j in i[2:]:\n",
    "        for k in j:\n",
    "            if(isSubtitle(k)):\n",
    "                moveSubtitle(i[0] + \"/\" + k, subFolder)\n"
   ]
  }
 ],
 "metadata": {
  "interpreter": {
   "hash": "aee8b7b246df8f9039afb4144a1f6fd8d2ca17a180786b69acc140d282b71a49"
  },
  "kernelspec": {
   "display_name": "Python 3.9.6 64-bit",
   "language": "python",
   "name": "python3"
  },
  "language_info": {
   "codemirror_mode": {
    "name": "ipython",
    "version": 3
   },
   "file_extension": ".py",
   "mimetype": "text/x-python",
   "name": "python",
   "nbconvert_exporter": "python",
   "pygments_lexer": "ipython3",
   "version": "3.9.6"
  },
  "orig_nbformat": 4
 },
 "nbformat": 4,
 "nbformat_minor": 2
}
